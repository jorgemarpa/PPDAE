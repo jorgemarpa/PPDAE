{
 "cells": [
  {
   "cell_type": "code",
   "execution_count": 1,
   "id": "886d640e-62d0-43fc-a887-6fbc21d25ad8",
   "metadata": {},
   "outputs": [],
   "source": [
    "%load_ext autoreload\n",
    "%autoreload 2"
   ]
  },
  {
   "cell_type": "code",
   "execution_count": 2,
   "id": "131622cb-dd18-4228-805c-d45be5fc9224",
   "metadata": {},
   "outputs": [],
   "source": [
    "import sys\n",
    "import os\n",
    "import argparse\n",
    "import torch\n",
    "import torch.optim as optim\n",
    "import numpy as np\n",
    "from bisect import bisect\n",
    "import matplotlib.pyplot as plt\n",
    "\n",
    "import datetime\n",
    "import torch.nn as nn\n",
    "import wandb\n",
    "\n",
    "sys.path.append(f\"{os.path.dirname(os.getcwd())}\")\n",
    "\n",
    "from src.dataset_large import ProtoPlanetaryDisks\n",
    "from src.ae_model_phy import *\n",
    "from src.utils import count_parameters, str2bool, plot_recon_wall, plot_latent_space\n",
    "from src.training_callbacks import EarlyStopping"
   ]
  },
  {
   "cell_type": "code",
   "execution_count": 3,
   "id": "dd44e167-51bb-4c8a-8b2b-8044d369af74",
   "metadata": {},
   "outputs": [],
   "source": [
    "device = torch.device(\"cuda\" if torch.cuda.is_available() else \"cpu\")\n",
    "if device.type == \"cuda\":\n",
    "    torch.cuda.empty_cache()"
   ]
  },
  {
   "cell_type": "code",
   "execution_count": 4,
   "id": "2ffadd41-57a2-4d0a-bdee-e5dc77af0a1e",
   "metadata": {},
   "outputs": [],
   "source": [
    "rnd_seed = 13\n",
    "np.random.seed(rnd_seed)\n",
    "torch.manual_seed(rnd_seed)\n",
    "torch.cuda.manual_seed_all(rnd_seed)"
   ]
  },
  {
   "cell_type": "code",
   "execution_count": 5,
   "id": "f95f3a8c-6415-44f5-a4b2-73236f24b413",
   "metadata": {},
   "outputs": [],
   "source": [
    "batch_size = 64\n",
    "\n",
    "latent_dim   = 8\n",
    "dropout      = 0.2\n",
    "kernel_size  = 3\n",
    "conv_blocks  = 4\n",
    "feed_phy     = False\n",
    "lr = 1e-4"
   ]
  },
  {
   "cell_type": "code",
   "execution_count": 6,
   "id": "267e52ec-5c5a-4d19-8193-91677486959a",
   "metadata": {},
   "outputs": [],
   "source": [
    "dataset = ProtoPlanetaryDisks(\n",
    "            machine=\"local\",\n",
    "            transform=True,\n",
    "            par_norm=True,\n",
    "            subset=\"25052021\",\n",
    "            image_norm=\"image\",\n",
    "        )"
   ]
  },
  {
   "cell_type": "code",
   "execution_count": 7,
   "id": "779e6acb-cceb-48e7-9232-f2d30a3fcdee",
   "metadata": {},
   "outputs": [
    {
     "data": {
      "text/plain": [
       "(58335, 8)"
      ]
     },
     "execution_count": 7,
     "metadata": {},
     "output_type": "execute_result"
    }
   ],
   "source": [
    "dataset.par_train.shape"
   ]
  },
  {
   "cell_type": "code",
   "execution_count": 8,
   "id": "bdf43bf5-8831-4052-8e51-7e42ad9d854c",
   "metadata": {},
   "outputs": [
    {
     "data": {
      "text/plain": [
       "(14584, 1, 187, 187)"
      ]
     },
     "execution_count": 8,
     "metadata": {},
     "output_type": "execute_result"
    }
   ],
   "source": [
    "dataset.imgs_test.shape"
   ]
  },
  {
   "cell_type": "code",
   "execution_count": 9,
   "id": "5f74f520-07ce-4868-b1d0-fae2d37fd5de",
   "metadata": {},
   "outputs": [
    {
     "data": {
      "image/png": "[encoded data removed]",
      "text/plain": [
       "<Figure size 432x288 with 2 Axes>"
      ]
     },
     "metadata": {
      "needs_background": "light"
     },
     "output_type": "display_data"
    }
   ],
   "source": [
    "cbar = plt.imshow(dataset[0][0][0], vmin=0, vmax=np.percentile(dataset[0][0][0], 99))\n",
    "plt.colorbar(cbar)\n",
    "plt.show()"
   ]
  },
  {
   "cell_type": "code",
   "execution_count": 10,
   "id": "967210c2-7172-43d3-bd63-6f1a2c174a51",
   "metadata": {},
   "outputs": [],
   "source": [
    "train_loader, val_loader, test_loader = dataset.get_dataloader(\n",
    "        batch_size=batch_size, shuffle=True, val_split=0.2, random_seed=rnd_seed\n",
    "    )"
   ]
  },
  {
   "cell_type": "code",
   "execution_count": 11,
   "id": "fc8a4159-380f-475a-b3e9-7be859a2c058",
   "metadata": {},
   "outputs": [
    {
     "data": {
      "text/plain": [
       "(730, 183, 228)"
      ]
     },
     "execution_count": 11,
     "metadata": {},
     "output_type": "execute_result"
    }
   ],
   "source": [
    "len(train_loader), len(val_loader), len(test_loader)"
   ]
  },
  {
   "cell_type": "code",
   "execution_count": 12,
   "id": "bec18668-a656-4c6e-b40a-c66c16f94311",
   "metadata": {},
   "outputs": [
    {
     "data": {
      "text/plain": [
       "(58335, 8)"
      ]
     },
     "execution_count": 12,
     "metadata": {},
     "output_type": "execute_result"
    }
   ],
   "source": [
    "dataset.par_train.shape"
   ]
  },
  {
   "cell_type": "code",
   "execution_count": 13,
   "id": "0ca4cec8-a2b8-4bc7-9e24-580f7cc88839",
   "metadata": {},
   "outputs": [],
   "source": [
    "autoencoder = ConvLinTrans_AE(\n",
    "            latent_dim=latent_dim,\n",
    "            img_dim=dataset.img_dim,\n",
    "            dropout=dropout,\n",
    "            in_ch=dataset.img_channels,\n",
    "            kernel=kernel_size,\n",
    "            n_conv_blocks=conv_blocks,\n",
    "            phy_dim=len(dataset.par_names) if str2bool(feed_phy) else 0,\n",
    "            feed_phy=str2bool(feed_phy),\n",
    "        )"
   ]
  },
  {
   "cell_type": "code",
   "execution_count": 14,
   "id": "0aeb6658-139b-4631-b58c-2a318de207f2",
   "metadata": {},
   "outputs": [],
   "source": [
    "optimizer = optim.Adam(autoencoder.parameters(), lr=lr, weight_decay=1e-6)"
   ]
  },
  {
   "cell_type": "code",
   "execution_count": 15,
   "id": "00b5ceef-be3c-40d2-8c18-d3c9eab5cd7e",
   "metadata": {},
   "outputs": [],
   "source": [
    "class Regressor(nn.Module):\n",
    "    \n",
    "    def __init__(\n",
    "        self,\n",
    "        input_dim=8,\n",
    "        output_dim=8,\n",
    "        dropout=0.2,\n",
    "        n_layers=4,\n",
    "    ):\n",
    "        super(Regressor, self).__init__()\n",
    "        self.input_dim = input_dim\n",
    "        self.output_dim = output_dim\n",
    "        self.dropout = dropout\n",
    "        self.n_layers = n_layers\n",
    "        \n",
    "        self.fc_layers = nn.Sequential()\n",
    "        for k in range(n_layers):\n",
    "            self.fc_layers.add_module(f\"fc_{k+1}\", \n",
    "                                      nn.Linear(self.input_dim, self.output_dim)\n",
    "                                     )\n",
    "            self.fc_layers.add_module(f\"tanh_{k+1}\", nn.Tanh())\n",
    "        \n",
    "    def forward(self, x):\n",
    "        return self.fc_layers(x)\n",
    "    \n",
    "    def inverse(self, y):\n",
    "        '''\n",
    "            Returns the invert of the NN. Only works if all layers have the same \n",
    "            number of input and output neurons. Only implemented for Linear\n",
    "            layers and Tanh activation function. \n",
    "        '''\n",
    "        if self.input_dim != self.output_dim:\n",
    "            raise ValueError(\"FC layers have different input/output number of neurons\")\n",
    "            \n",
    "        z = y  # use 'z' for the reverse result, start with the model's output 'y'.\n",
    "        for step in list(self.fc_layers.children())[::-1]:\n",
    "            if isinstance(step, torch.nn.Linear):\n",
    "                z = z - step.bias[None, ...]\n",
    "                z = z[..., None]  # 'torch.solve' requires N column vectors (i.e. shape (N, n, 1)).\n",
    "                # z = torch.solve(z, step.weight)[0]\n",
    "                z = torch.linalg.solve(step.weight, z)\n",
    "                z = torch.squeeze(z)  # remove the extra dimension that we've added for 'torch.solve'.\n",
    "            elif isinstance(step, torch.nn.Tanh):\n",
    "                z = 0.5 * torch.log((1 + z) / (1 - z))\n",
    "            else:\n",
    "                raise ValueError(f\"Layer {step} not implemented\")\n",
    "                \n",
    "        return z\n",
    "        "
   ]
  },
  {
   "cell_type": "code",
   "execution_count": 16,
   "id": "b3a17587-91ac-476c-9efc-c53cf1a1cb4e",
   "metadata": {},
   "outputs": [
    {
     "data": {
      "text/plain": [
       "Regressor(\n",
       "  (fc_layers): Sequential(\n",
       "    (fc_1): Linear(in_features=8, out_features=8, bias=True)\n",
       "    (tanh_1): Tanh()\n",
       "    (fc_2): Linear(in_features=8, out_features=8, bias=True)\n",
       "    (tanh_2): Tanh()\n",
       "    (fc_3): Linear(in_features=8, out_features=8, bias=True)\n",
       "    (tanh_3): Tanh()\n",
       "    (fc_4): Linear(in_features=8, out_features=8, bias=True)\n",
       "    (tanh_4): Tanh()\n",
       "  )\n",
       ")"
      ]
     },
     "execution_count": 16,
     "metadata": {},
     "output_type": "execute_result"
    }
   ],
   "source": [
    "N = len(dataset.par_names)\n",
    "regressor_nlayers = 4\n",
    "\n",
    "x_test = torch.randn(64, N)\n",
    "regres = Regressor(input_dim=N, output_dim=N, n_layers=regressor_nlayers)\n",
    "regres"
   ]
  },
  {
   "cell_type": "code",
   "execution_count": 17,
   "id": "0ee9329c-748d-4e18-b8bb-6a753f1ba626",
   "metadata": {},
   "outputs": [
    {
     "name": "stdout",
     "output_type": "stream",
     "text": [
      "Agreement between x and z:  tensor(0.0160, grad_fn=<DistBackward0>)\n"
     ]
    }
   ],
   "source": [
    "y = regres(x_test)\n",
    "z = regres.inverse(y)\n",
    "print('Agreement between x and z: ', torch.dist(x_test, z))"
   ]
  },
  {
   "cell_type": "code",
   "execution_count": 38,
   "id": "dfc3ab79-5eaa-4a6f-9b40-113148d14dbe",
   "metadata": {},
   "outputs": [],
   "source": [
    "class Trainer(object):\n",
    "\n",
    "    def __init__(\n",
    "        self,\n",
    "        autoencoder,\n",
    "        regressor,\n",
    "        optimizer,\n",
    "        batch_size,\n",
    "        wandb,\n",
    "        scheduler=None,\n",
    "        print_every=50,\n",
    "        loss_fx=\"bce\",\n",
    "        device=\"cpu\",\n",
    "        dry_run=False,\n",
    "    ):\n",
    "        self.device = device\n",
    "        self.autoencoder = autoencoder\n",
    "        self.regressor = regressor\n",
    "        if torch.cuda.device_count() > 1 and True:\n",
    "            print(\"Let's use\", torch.cuda.device_count(), \"GPUs!\")\n",
    "            self.autoencoder = nn.DataParallel(self.autoencoder)\n",
    "            self.regressor = nn.DataParallel(self.regressor)\n",
    "        self.autoencoder.to(self.device)\n",
    "        self.regressor.to(self.device)\n",
    "        print(\"Is model in cuda? \", next(self.autoencoder.parameters()).is_cuda)\n",
    "        self.opt = optimizer\n",
    "        self.sch = scheduler\n",
    "        self.batch_size = batch_size\n",
    "        self.train_loss = {\"Loss_AE\": [], \"Loss_R\": [], \"Loss\": []}\n",
    "        self.test_loss = {\"Loss_AE\": [], \"Loss_R\": [], \"Loss\": []}\n",
    "        self.num_steps = 0\n",
    "        self.print_every = print_every\n",
    "        self.mse_loss = nn.MSELoss(reduction=\"mean\")\n",
    "        self.bce_loss = nn.BCELoss(reduction=\"mean\")\n",
    "        self.wb = wandb\n",
    "        self.loss_fx = loss_fx\n",
    "        self.dry_run = dry_run\n",
    "\n",
    "    def _loss(self, x, xhat, phy, phyhat, train=True, ep=0):\n",
    "        if self.loss_fx == \"mse\":\n",
    "            loss_recon = self.mse_loss(xhat, x)\n",
    "            loss_regre = self.mse_loss(phyhat, phy)\n",
    "        elif self.loss_fx == \"bce\":\n",
    "            loss_recon = self.bce_loss(xhat, x)\n",
    "            loss_regre = self.bce_loss(phyhat, phy)\n",
    "        loss = loss_recon + loss_regre\n",
    "\n",
    "        if train:\n",
    "            self.train_loss[\"Loss_AE\"].append(loss_recon.item())\n",
    "            self.train_loss[\"Loss_R\"].append(loss_regre.item())\n",
    "            self.train_loss[\"Loss\"].append(loss.item())\n",
    "        else:\n",
    "            self.test_loss[\"Loss_AE\"].append(loss_recon.item())\n",
    "            self.test_loss[\"Loss_R\"].append(loss_regre.item())\n",
    "            self.test_loss[\"Loss\"].append(loss.item())\n",
    "\n",
    "        return loss\n",
    "\n",
    "    def _train_epoch(self, data_loader, epoch):\n",
    "        # switch model to training mode\n",
    "        self.autoencoder.train()\n",
    "        self.regressor.train()\n",
    "        # iterate over len(data)/batch_size\n",
    "        z_all = []\n",
    "        xhat_plot, x_plot = [], []\n",
    "        for i, (img, phy) in enumerate(data_loader):\n",
    "            self.num_steps += 1\n",
    "            self.opt.zero_grad()\n",
    "            img = img.to(self.device)\n",
    "            phy = phy.to(self.device)\n",
    "\n",
    "            # eval autoencoder\n",
    "            xhat, z = self.autoencoder(img)\n",
    "            # eval regressor\n",
    "            phyhat = self.regressor(phy)\n",
    "            \n",
    "            # calculate loss value\n",
    "            loss = self._loss(img, xhat, phy, phyhat, train=True, ep=epoch)\n",
    "            \n",
    "            # calculate the gradients\n",
    "            loss.backward()\n",
    "            \n",
    "            # perform optimization step accordig to the gradients\n",
    "            self.opt.step()\n",
    "\n",
    "            self._report_train(i)\n",
    "            # aux variables for latter plots\n",
    "            z_all.append(z.data.cpu().numpy())\n",
    "            if i == 10:\n",
    "                xhat_plot = xhat.data.cpu().numpy()\n",
    "                x_plot = img.data.cpu().numpy()\n",
    "            if i == 100 and self.dry_run:\n",
    "               print('WARNING: using only 1st batch')\n",
    "               break\n",
    "\n",
    "        z_all = np.concatenate(z_all)\n",
    "        z_all = z_all[np.random.choice(z_all.shape[0], 3000, replace=False), :]\n",
    "        # print(z_all.shape)\n",
    "\n",
    "        # plot reconstructed images ever 2 epochs\n",
    "        if epoch % 2 == 0:\n",
    "            wall = plot_recon_wall(xhat_plot, x_plot, epoch=epoch, log=True)\n",
    "            self.wb.log({\"Train_Recon\": self.wb.Image(wall)}, step=self.num_steps)\n",
    "\n",
    "        if epoch % 2 == 0:\n",
    "            latent_plot = plot_latent_space(z_all, y=None)\n",
    "            self.wb.log(\n",
    "                {\"Latent_space\": self.wb.Image(latent_plot)}, step=self.num_steps\n",
    "            )\n",
    "\n",
    "    def _test_epoch(self, test_loader, epoch):\n",
    "        \n",
    "        # swich model to evaluation mode, this make it deterministic\n",
    "        self.autoencoder.eval()\n",
    "        self.regressor.eval()\n",
    "        with torch.no_grad():\n",
    "            xhat_plot, x_plot = [], []\n",
    "\n",
    "            for i, (img, phy) in enumerate(test_loader):\n",
    "                # send data to current device\n",
    "                img = img.to(self.device)\n",
    "                phy = phy.to(self.device)\n",
    "                # evaluate autoencoder\n",
    "                xhat, z = self.autoencoder(img)\n",
    "                # eval regressor\n",
    "                phyhat = self.regressor(phy)\n",
    "                # calculate loss value\n",
    "                loss = self._loss(img, xhat, phy, phyhat, train=False, ep=epoch)\n",
    "\n",
    "                # aux variables for plots\n",
    "                if i == 10:\n",
    "                    xhat_plot = xhat.data.cpu().numpy()\n",
    "                    x_plot = img.data.cpu().numpy()\n",
    "                if i == 100 and self.dry_run:\n",
    "                   print('WARNING: using only 1st batch')\n",
    "                   break\n",
    "\n",
    "        self._report_test(epoch)\n",
    "\n",
    "        # plot reconstructed images ever 2 epochs\n",
    "        if epoch % 2 == 0:\n",
    "            wall = plot_recon_wall(xhat_plot, x_plot, epoch=epoch, log=True)\n",
    "            self.wb.log({\"Test_Recon\": self.wb.Image(wall)}, step=self.num_steps)\n",
    "\n",
    "        return loss\n",
    "\n",
    "    def train(self, train_loader, test_loader, epochs, save=True, early_stop=False):\n",
    "\n",
    "        # hold samples, real and generated, for initial plotting\n",
    "        if early_stop:\n",
    "            early_stopping = EarlyStopping(patience=10, min_delta=0.1, verbose=True)\n",
    "\n",
    "        # train for n number of epochs\n",
    "        time_start = datetime.datetime.now()\n",
    "        for epoch in range(1, epochs + 1):\n",
    "            e_time = datetime.datetime.now()\n",
    "            print(\"##\" * 20)\n",
    "            print(\"\\nEpoch {}\".format(epoch))\n",
    "\n",
    "            # train and validate\n",
    "            self._train_epoch(train_loader, epoch)\n",
    "            val_loss = self._test_epoch(test_loader, epoch)\n",
    "\n",
    "            # update learning rate according to cheduler\n",
    "            if self.sch is not None:\n",
    "                self.wb.log({\"LR\": self.opt.param_groups[0][\"lr\"]}, step=self.num_steps)\n",
    "                if \"ReduceLROnPlateau\" == self.sch.__class__.__name__:\n",
    "                    self.sch.step(val_loss)\n",
    "                else:\n",
    "                    self.sch.step()\n",
    "\n",
    "            # report elapsed time per epoch and total run tume\n",
    "            epoch_time = datetime.datetime.now() - e_time\n",
    "            elap_time = datetime.datetime.now() - time_start\n",
    "            print(\"Time per epoch: \", epoch_time.seconds, \" s\")\n",
    "            print(\"Elapsed time  : %.2f m\" % (elap_time.seconds / 60))\n",
    "            print(\"##\" * 20)\n",
    "\n",
    "            # early stopping\n",
    "            if early_stop:\n",
    "                early_stopping(val_loss.cpu())\n",
    "                if early_stopping.early_stop:\n",
    "                    print(\"Early stopping\")\n",
    "                    break\n",
    "\n",
    "        if save:\n",
    "            torch.save(self.autoencoder.state_dict(), \"%s/autoencoder.pt\" % (self.wb.run.dir))\n",
    "            torch.save(self.regressor.state_dict(), \"%s/regressor.pt\" % (self.wb.run.dir))\n",
    "\n",
    "    def _report_train(self, i):\n",
    "        # ------------------------ Reports ---------------------------- #\n",
    "        # print scalars to std output and save scalars/hist to W&B\n",
    "        if i % self.print_every == 0:\n",
    "            print(\"Training iteration %i, global step %i\" % (i + 1, self.num_steps))\n",
    "            print(\"Loss AE: %.6f\" % (self.train_loss[\"Loss_AE\"][-1]))\n",
    "            print(\"Loss R : %.6f\" % (self.train_loss[\"Loss_R\"][-1]))\n",
    "            print(\"Loss   : %.6f\" % (self.train_loss[\"Loss\"][-1]))\n",
    "\n",
    "            self.wb.log(\n",
    "                {\"Train_Loss\": self.train_loss[\"Loss\"][-1], \n",
    "                 \"Train_Loss_AE\": self.train_loss[\"Loss_AE\"][-1], \n",
    "                 \"Train_Loss_R\": self.train_loss[\"Loss_R\"][-1], \n",
    "                }, step=self.num_steps\n",
    "            )\n",
    "            print(\"__\" * 20)\n",
    "\n",
    "    def _report_test(self, ep):\n",
    "        # ------------------------ Reports ---------------------------- #\n",
    "        # print scalars to std output and save scalars/hist to W&B\n",
    "        print(\"*** TEST LOSS ***\")\n",
    "        print(\"Epoch %i, global step %i\" % (ep, self.num_steps))\n",
    "        print(\"Loss: %.6f\" % (self.test_loss[\"Loss\"][-1]))\n",
    "\n",
    "        self.wb.log({\"Test_Loss_AE\": self.test_loss[\"Loss_AE\"][-1],\n",
    "                     \"Test_Loss_R\": self.test_loss[\"Loss_R\"][-1],\n",
    "                     \"Test_Loss\": self.test_loss[\"Loss\"][-1],\n",
    "                    }, step=self.num_steps)\n",
    "        print(\"__\" * 20)\n"
   ]
  },
  {
   "cell_type": "code",
   "execution_count": 31,
   "id": "0061e456-0d47-47d4-8fb9-81342c3a5de2",
   "metadata": {},
   "outputs": [],
   "source": [
    "dry_run = True"
   ]
  },
  {
   "cell_type": "code",
   "execution_count": 21,
   "id": "4bc81d13-fb1d-4c5d-a2b8-e67c742b7548",
   "metadata": {},
   "outputs": [
    {
     "name": "stderr",
     "output_type": "stream",
     "text": [
      "Failed to detect the name of this notebook, you can set it manually with the WANDB_NOTEBOOK_NAME environment variable to enable code saving.\n",
      "\u001b[34m\u001b[1mwandb\u001b[0m: Currently logged in as: \u001b[33mjorgemarpa\u001b[0m (\u001b[33mdeep_ppd\u001b[0m). Use \u001b[1m`wandb login --relogin`\u001b[0m to force relogin\n"
     ]
    },
    {
     "data": {
      "text/html": [
       "Tracking run with wandb version 0.15.2"
      ],
      "text/plain": [
       "<IPython.core.display.HTML object>"
      ]
     },
     "metadata": {},
     "output_type": "display_data"
    },
    {
     "data": {
      "text/html": [
       "Run data is saved locally in <code>/Users/jorgemarpa/Work/UCB/PPDAE/notebooks/wandb/run-20230517_145139-gn3idwcs</code>"
      ],
      "text/plain": [
       "<IPython.core.display.HTML object>"
      ]
     },
     "metadata": {},
     "output_type": "display_data"
    },
    {
     "data": {
      "text/html": [
       "Syncing run <strong><a href='https://wandb.ai/deep_ppd/dual-ae-regressor/runs/gn3idwcs' target=\"_blank\">spring-grass-3</a></strong> to <a href='https://wandb.ai/deep_ppd/dual-ae-regressor' target=\"_blank\">Weights & Biases</a> (<a href='https://wandb.me/run' target=\"_blank\">docs</a>)<br/>"
      ],
      "text/plain": [
       "<IPython.core.display.HTML object>"
      ]
     },
     "metadata": {},
     "output_type": "display_data"
    },
    {
     "data": {
      "text/html": [
       " View project at <a href='https://wandb.ai/deep_ppd/dual-ae-regressor' target=\"_blank\">https://wandb.ai/deep_ppd/dual-ae-regressor</a>"
      ],
      "text/plain": [
       "<IPython.core.display.HTML object>"
      ]
     },
     "metadata": {},
     "output_type": "display_data"
    },
    {
     "data": {
      "text/html": [
       " View run at <a href='https://wandb.ai/deep_ppd/dual-ae-regressor/runs/gn3idwcs' target=\"_blank\">https://wandb.ai/deep_ppd/dual-ae-regressor/runs/gn3idwcs</a>"
      ],
      "text/plain": [
       "<IPython.core.display.HTML object>"
      ]
     },
     "metadata": {},
     "output_type": "display_data"
    },
    {
     "data": {
      "text/html": [
       "<button onClick=\"this.nextSibling.style.display='block';this.style.display='none';\">Display W&B run</button><iframe src='https://wandb.ai/deep_ppd/dual-ae-regressor/runs/gn3idwcs?jupyter=true' style='border:none;width:100%;height:420px;display:none;'></iframe>"
      ],
      "text/plain": [
       "<wandb.sdk.wandb_run.Run at 0x287b79cd0>"
      ]
     },
     "execution_count": 21,
     "metadata": {},
     "output_type": "execute_result"
    }
   ],
   "source": [
    "wandb.init(entity=\"deep_ppd\", project=\"dual-ae-regressor\", tags=[\"develop\"])"
   ]
  },
  {
   "cell_type": "code",
   "execution_count": 29,
   "id": "995bdc09-bf17-4981-a363-6836dfc9bed1",
   "metadata": {},
   "outputs": [
    {
     "data": {
      "text/plain": [
       "[]"
      ]
     },
     "execution_count": 29,
     "metadata": {},
     "output_type": "execute_result"
    }
   ],
   "source": [
    "wandb.config.update({\n",
    "    \"batch_size\": batch_size,\n",
    "    \"latent_dim\": latent_dim,\n",
    "    \"dropout\": dropout,\n",
    "    \"kernel_size\": kernel_size,\n",
    "    \"conv_blocks\": conv_blocks,\n",
    "    \"feed_phy\": str(feed_phy),\n",
    "    \"lr\": lr,\n",
    "    \"img_channels\": dataset.img_channels,\n",
    "    \"feed_phy\": feed_phy,\n",
    "    \"rnd_seed\": rnd_seed,\n",
    "    \"regressor_nlayers\": regressor_nlayers,\n",
    "    \"physics_dim\": len(dataset.par_names),\n",
    "    \"n_train_params_autoencoder\": count_parameters(autoencoder),\n",
    "    \"n_train_params_regressor\": count_parameters(regres),\n",
    "    \"dry_run\": dry_run,\n",
    "})\n",
    "wandb.watch((autoencoder, regres), log=\"gradients\")"
   ]
  },
  {
   "cell_type": "code",
   "execution_count": 39,
   "id": "1d9c5766-7f72-41a6-9090-e591aad4a6a9",
   "metadata": {},
   "outputs": [
    {
     "name": "stdout",
     "output_type": "stream",
     "text": [
      "Is model in cuda?  False\n"
     ]
    }
   ],
   "source": [
    "trainer = Trainer(\n",
    "        autoencoder,\n",
    "        regres,\n",
    "        optimizer,\n",
    "        batch_size,\n",
    "        wandb,\n",
    "        scheduler=None,\n",
    "        print_every=100,\n",
    "        device=device,\n",
    "        loss_fx=\"mse\",\n",
    "        dry_run=dry_run,\n",
    "    )"
   ]
  },
  {
   "cell_type": "code",
   "execution_count": 40,
   "id": "0fc4c96d-eea2-4155-986a-c188bcb5adca",
   "metadata": {},
   "outputs": [
    {
     "name": "stdout",
     "output_type": "stream",
     "text": [
      "torch.Size([64, 1, 187, 187]) torch.Size([64, 8])\n"
     ]
    }
   ],
   "source": [
    "for i, (img, phy) in enumerate(train_loader):\n",
    "    print(img.shape, phy.shape)\n",
    "    break"
   ]
  },
  {
   "cell_type": "code",
   "execution_count": 41,
   "id": "fe3f9f2b-cd4c-477f-91ef-1c79b4fc2593",
   "metadata": {},
   "outputs": [
    {
     "name": "stdout",
     "output_type": "stream",
     "text": [
      "########################################\n",
      "\n",
      "Epoch 1\n",
      "Training iteration 1, global step 1\n",
      "Loss AE: 0.001770\n",
      "Loss R : 0.486884\n",
      "Loss   : 0.488654\n",
      "________________________________________\n",
      "Training iteration 101, global step 101\n",
      "Loss AE: 0.001425\n",
      "Loss R : 0.447561\n",
      "Loss   : 0.448986\n",
      "________________________________________\n",
      "WARNING: using only 1st batch\n",
      "WARNING: using only 1st batch\n",
      "*** TEST LOSS ***\n",
      "Epoch 1, global step 101\n",
      "Loss: 0.481233\n",
      "________________________________________\n",
      "Time per epoch:  526  s\n",
      "Elapsed time  : 8.77 m\n",
      "########################################\n",
      "########################################\n",
      "\n",
      "Epoch 2\n",
      "Training iteration 1, global step 102\n",
      "Loss AE: 0.001388\n",
      "Loss R : 0.499627\n",
      "Loss   : 0.501015\n",
      "________________________________________\n",
      "Training iteration 101, global step 202\n",
      "Loss AE: 0.001290\n",
      "Loss R : 0.508295\n",
      "Loss   : 0.509586\n",
      "________________________________________\n",
      "WARNING: using only 1st batch\n",
      "WARNING: using only 1st batch\n",
      "*** TEST LOSS ***\n",
      "Epoch 2, global step 202\n",
      "Loss: 0.482426\n",
      "________________________________________\n",
      "Time per epoch:  524  s\n",
      "Elapsed time  : 17.50 m\n",
      "########################################\n",
      "########################################\n",
      "\n",
      "Epoch 3\n",
      "Training iteration 1, global step 203\n",
      "Loss AE: 0.001298\n",
      "Loss R : 0.481557\n",
      "Loss   : 0.482855\n",
      "________________________________________\n",
      "Training iteration 101, global step 303\n",
      "Loss AE: 0.001287\n",
      "Loss R : 0.488762\n",
      "Loss   : 0.490048\n",
      "________________________________________\n",
      "WARNING: using only 1st batch\n",
      "WARNING: using only 1st batch\n",
      "*** TEST LOSS ***\n",
      "Epoch 3, global step 303\n",
      "Loss: 0.511002\n",
      "________________________________________\n",
      "Time per epoch:  517  s\n",
      "Elapsed time  : 26.12 m\n",
      "########################################\n",
      "########################################\n",
      "\n",
      "Epoch 4\n",
      "Training iteration 1, global step 304\n",
      "Loss AE: 0.001122\n",
      "Loss R : 0.525379\n",
      "Loss   : 0.526501\n",
      "________________________________________\n",
      "Training iteration 101, global step 404\n",
      "Loss AE: 0.001107\n",
      "Loss R : 0.501548\n",
      "Loss   : 0.502655\n",
      "________________________________________\n",
      "WARNING: using only 1st batch\n",
      "WARNING: using only 1st batch\n",
      "*** TEST LOSS ***\n",
      "Epoch 4, global step 404\n",
      "Loss: 0.499639\n",
      "________________________________________\n",
      "Time per epoch:  523  s\n",
      "Elapsed time  : 34.85 m\n",
      "########################################\n",
      "########################################\n",
      "\n",
      "Epoch 5\n",
      "Training iteration 1, global step 405\n",
      "Loss AE: 0.001139\n",
      "Loss R : 0.465553\n",
      "Loss   : 0.466692\n",
      "________________________________________\n",
      "Training iteration 101, global step 505\n",
      "Loss AE: 0.001022\n",
      "Loss R : 0.488023\n",
      "Loss   : 0.489045\n",
      "________________________________________\n",
      "WARNING: using only 1st batch\n",
      "WARNING: using only 1st batch\n",
      "*** TEST LOSS ***\n",
      "Epoch 5, global step 505\n",
      "Loss: 0.490216\n",
      "________________________________________\n",
      "Time per epoch:  519  s\n",
      "Elapsed time  : 43.52 m\n",
      "########################################\n",
      "########################################\n",
      "\n",
      "Epoch 6\n",
      "Training iteration 1, global step 506\n",
      "Loss AE: 0.000924\n",
      "Loss R : 0.491941\n",
      "Loss   : 0.492865\n",
      "________________________________________\n",
      "Training iteration 101, global step 606\n",
      "Loss AE: 0.001119\n",
      "Loss R : 0.466112\n",
      "Loss   : 0.467231\n",
      "________________________________________\n",
      "WARNING: using only 1st batch\n",
      "WARNING: using only 1st batch\n",
      "*** TEST LOSS ***\n",
      "Epoch 6, global step 606\n",
      "Loss: 0.491608\n",
      "________________________________________\n",
      "Time per epoch:  519  s\n",
      "Elapsed time  : 52.17 m\n",
      "########################################\n",
      "########################################\n",
      "\n",
      "Epoch 7\n",
      "Training iteration 1, global step 607\n",
      "Loss AE: 0.000831\n",
      "Loss R : 0.487391\n",
      "Loss   : 0.488223\n",
      "________________________________________\n",
      "Training iteration 101, global step 707\n",
      "Loss AE: 0.000706\n",
      "Loss R : 0.464940\n",
      "Loss   : 0.465646\n",
      "________________________________________\n",
      "WARNING: using only 1st batch\n",
      "WARNING: using only 1st batch\n",
      "*** TEST LOSS ***\n",
      "Epoch 7, global step 707\n",
      "Loss: 0.464813\n",
      "________________________________________\n",
      "Time per epoch:  522  s\n",
      "Elapsed time  : 60.88 m\n",
      "########################################\n",
      "########################################\n",
      "\n",
      "Epoch 8\n",
      "Training iteration 1, global step 708\n",
      "Loss AE: 0.000798\n",
      "Loss R : 0.498053\n",
      "Loss   : 0.498852\n",
      "________________________________________\n",
      "Training iteration 101, global step 808\n",
      "Loss AE: 0.000686\n",
      "Loss R : 0.515726\n",
      "Loss   : 0.516412\n",
      "________________________________________\n",
      "WARNING: using only 1st batch\n",
      "WARNING: using only 1st batch\n",
      "*** TEST LOSS ***\n",
      "Epoch 8, global step 808\n",
      "Loss: 0.515083\n",
      "________________________________________\n",
      "Time per epoch:  504  s\n",
      "Elapsed time  : 69.28 m\n",
      "########################################\n",
      "########################################\n",
      "\n",
      "Epoch 9\n",
      "Training iteration 1, global step 809\n",
      "Loss AE: 0.000784\n",
      "Loss R : 0.456355\n",
      "Loss   : 0.457139\n",
      "________________________________________\n",
      "Training iteration 101, global step 909\n",
      "Loss AE: 0.000737\n",
      "Loss R : 0.541565\n",
      "Loss   : 0.542302\n",
      "________________________________________\n",
      "WARNING: using only 1st batch\n",
      "WARNING: using only 1st batch\n",
      "*** TEST LOSS ***\n",
      "Epoch 9, global step 909\n",
      "Loss: 0.508251\n",
      "________________________________________\n",
      "Time per epoch:  521  s\n",
      "Elapsed time  : 77.97 m\n",
      "########################################\n",
      "########################################\n",
      "\n",
      "Epoch 10\n",
      "Training iteration 1, global step 910\n",
      "Loss AE: 0.000736\n",
      "Loss R : 0.496523\n",
      "Loss   : 0.497259\n",
      "________________________________________\n",
      "Training iteration 101, global step 1010\n",
      "Loss AE: 0.000728\n",
      "Loss R : 0.509021\n",
      "Loss   : 0.509749\n",
      "________________________________________\n",
      "WARNING: using only 1st batch\n",
      "WARNING: using only 1st batch\n",
      "*** TEST LOSS ***\n",
      "Epoch 10, global step 1010\n",
      "Loss: 0.471505\n",
      "________________________________________\n",
      "Time per epoch:  516  s\n",
      "Elapsed time  : 86.58 m\n",
      "########################################\n",
      "########################################\n",
      "\n",
      "Epoch 11\n",
      "Training iteration 1, global step 1011\n",
      "Loss AE: 0.000687\n",
      "Loss R : 0.532777\n",
      "Loss   : 0.533463\n",
      "________________________________________\n",
      "Training iteration 101, global step 1111\n",
      "Loss AE: 0.000782\n",
      "Loss R : 0.494526\n",
      "Loss   : 0.495309\n",
      "________________________________________\n",
      "WARNING: using only 1st batch\n",
      "WARNING: using only 1st batch\n",
      "*** TEST LOSS ***\n",
      "Epoch 11, global step 1111\n",
      "Loss: 0.505319\n",
      "________________________________________\n",
      "Time per epoch:  513  s\n",
      "Elapsed time  : 95.13 m\n",
      "########################################\n",
      "########################################\n",
      "\n",
      "Epoch 12\n",
      "Training iteration 1, global step 1112\n",
      "Loss AE: 0.000637\n",
      "Loss R : 0.499533\n",
      "Loss   : 0.500170\n",
      "________________________________________\n",
      "Training iteration 101, global step 1212\n",
      "Loss AE: 0.000571\n",
      "Loss R : 0.495178\n",
      "Loss   : 0.495748\n",
      "________________________________________\n",
      "WARNING: using only 1st batch\n",
      "WARNING: using only 1st batch\n",
      "*** TEST LOSS ***\n",
      "Epoch 12, global step 1212\n",
      "Loss: 0.508948\n",
      "________________________________________\n",
      "Time per epoch:  521  s\n",
      "Elapsed time  : 103.82 m\n",
      "########################################\n",
      "########################################\n",
      "\n",
      "Epoch 13\n",
      "Training iteration 1, global step 1213\n",
      "Loss AE: 0.000610\n",
      "Loss R : 0.509850\n",
      "Loss   : 0.510459\n",
      "________________________________________\n",
      "Training iteration 101, global step 1313\n",
      "Loss AE: 0.000567\n",
      "Loss R : 0.501840\n",
      "Loss   : 0.502407\n",
      "________________________________________\n",
      "WARNING: using only 1st batch\n",
      "WARNING: using only 1st batch\n",
      "*** TEST LOSS ***\n",
      "Epoch 13, global step 1313\n",
      "Loss: 0.497011\n",
      "________________________________________\n",
      "Time per epoch:  517  s\n",
      "Elapsed time  : 112.43 m\n",
      "########################################\n",
      "########################################\n",
      "\n",
      "Epoch 14\n",
      "Training iteration 1, global step 1314\n",
      "Loss AE: 0.000690\n",
      "Loss R : 0.493957\n",
      "Loss   : 0.494646\n",
      "________________________________________\n",
      "Training iteration 101, global step 1414\n",
      "Loss AE: 0.000508\n",
      "Loss R : 0.490310\n",
      "Loss   : 0.490818\n",
      "________________________________________\n",
      "WARNING: using only 1st batch\n",
      "WARNING: using only 1st batch\n",
      "*** TEST LOSS ***\n",
      "Epoch 14, global step 1414\n",
      "Loss: 0.498184\n",
      "________________________________________\n",
      "Time per epoch:  518  s\n",
      "Elapsed time  : 121.07 m\n",
      "########################################\n",
      "########################################\n",
      "\n",
      "Epoch 15\n",
      "Training iteration 1, global step 1415\n",
      "Loss AE: 0.000511\n",
      "Loss R : 0.513157\n",
      "Loss   : 0.513668\n",
      "________________________________________\n",
      "Training iteration 101, global step 1515\n",
      "Loss AE: 0.000512\n",
      "Loss R : 0.490468\n",
      "Loss   : 0.490979\n",
      "________________________________________\n",
      "WARNING: using only 1st batch\n",
      "WARNING: using only 1st batch\n",
      "*** TEST LOSS ***\n",
      "Epoch 15, global step 1515\n",
      "Loss: 0.503131\n",
      "________________________________________\n",
      "Time per epoch:  518  s\n",
      "Elapsed time  : 129.70 m\n",
      "########################################\n",
      "########################################\n",
      "\n",
      "Epoch 16\n",
      "Training iteration 1, global step 1516\n",
      "Loss AE: 0.000514\n",
      "Loss R : 0.507720\n",
      "Loss   : 0.508234\n",
      "________________________________________\n",
      "Training iteration 101, global step 1616\n",
      "Loss AE: 0.000567\n",
      "Loss R : 0.506193\n",
      "Loss   : 0.506760\n",
      "________________________________________\n",
      "WARNING: using only 1st batch\n",
      "WARNING: using only 1st batch\n",
      "*** TEST LOSS ***\n",
      "Epoch 16, global step 1616\n",
      "Loss: 0.496029\n",
      "________________________________________\n",
      "Time per epoch:  520  s\n",
      "Elapsed time  : 138.38 m\n",
      "########################################\n",
      "########################################\n",
      "\n",
      "Epoch 17\n",
      "Training iteration 1, global step 1617\n",
      "Loss AE: 0.000516\n",
      "Loss R : 0.483464\n",
      "Loss   : 0.483980\n",
      "________________________________________\n",
      "Training iteration 101, global step 1717\n",
      "Loss AE: 0.000498\n",
      "Loss R : 0.527088\n",
      "Loss   : 0.527586\n",
      "________________________________________\n",
      "WARNING: using only 1st batch\n",
      "WARNING: using only 1st batch\n",
      "*** TEST LOSS ***\n",
      "Epoch 17, global step 1717\n",
      "Loss: 0.520728\n",
      "________________________________________\n",
      "Time per epoch:  511  s\n",
      "Elapsed time  : 146.92 m\n",
      "########################################\n",
      "########################################\n",
      "\n",
      "Epoch 18\n",
      "Training iteration 1, global step 1718\n",
      "Loss AE: 0.000524\n",
      "Loss R : 0.476726\n",
      "Loss   : 0.477249\n",
      "________________________________________\n",
      "Training iteration 101, global step 1818\n",
      "Loss AE: 0.000439\n",
      "Loss R : 0.512165\n",
      "Loss   : 0.512605\n",
      "________________________________________\n",
      "WARNING: using only 1st batch\n",
      "WARNING: using only 1st batch\n",
      "*** TEST LOSS ***\n",
      "Epoch 18, global step 1818\n",
      "Loss: 0.508232\n",
      "________________________________________\n",
      "Time per epoch:  525  s\n",
      "Elapsed time  : 155.68 m\n",
      "########################################\n",
      "########################################\n",
      "\n",
      "Epoch 19\n",
      "Training iteration 1, global step 1819\n",
      "Loss AE: 0.000535\n",
      "Loss R : 0.511949\n",
      "Loss   : 0.512484\n",
      "________________________________________\n",
      "Training iteration 101, global step 1919\n",
      "Loss AE: 0.000477\n",
      "Loss R : 0.506417\n",
      "Loss   : 0.506894\n",
      "________________________________________\n",
      "WARNING: using only 1st batch\n",
      "WARNING: using only 1st batch\n",
      "*** TEST LOSS ***\n",
      "Epoch 19, global step 1919\n",
      "Loss: 0.525200\n",
      "________________________________________\n",
      "Time per epoch:  516  s\n",
      "Elapsed time  : 164.30 m\n",
      "########################################\n",
      "########################################\n",
      "\n",
      "Epoch 20\n",
      "Training iteration 1, global step 1920\n",
      "Loss AE: 0.000619\n",
      "Loss R : 0.508901\n",
      "Loss   : 0.509520\n",
      "________________________________________\n",
      "Training iteration 101, global step 2020\n",
      "Loss AE: 0.000563\n",
      "Loss R : 0.495448\n",
      "Loss   : 0.496012\n",
      "________________________________________\n",
      "WARNING: using only 1st batch\n",
      "WARNING: using only 1st batch\n",
      "*** TEST LOSS ***\n",
      "Epoch 20, global step 2020\n",
      "Loss: 0.543602\n",
      "________________________________________\n",
      "Time per epoch:  520  s\n",
      "Elapsed time  : 172.97 m\n",
      "########################################\n"
     ]
    },
    {
     "data": {
      "image/png": "[encoded data removed]",
      "text/plain": [
       "<Figure size 720x288 with 30 Axes>"
      ]
     },
     "metadata": {
      "needs_background": "light"
     },
     "output_type": "display_data"
    }
   ],
   "source": [
    "trainer.train(\n",
    "        train_loader, val_loader, 20, save=True, early_stop=False\n",
    "    )"
   ]
  },
  {
   "cell_type": "code",
   "execution_count": 27,
   "id": "47d1f088-5c87-4e6a-a434-c1f77084e76e",
   "metadata": {},
   "outputs": [
    {
     "data": {
      "text/plain": [
       "{'Loss_AE': [], 'Loss_R': [], 'Loss': []}"
      ]
     },
     "execution_count": 27,
     "metadata": {},
     "output_type": "execute_result"
    }
   ],
   "source": [
    "trainer.test_loss"
   ]
  },
  {
   "cell_type": "code",
   "execution_count": null,
   "id": "e4d2e4cd-3ca1-49d7-8be1-47169e514ebe",
   "metadata": {},
   "outputs": [],
   "source": [
    "trainer"
   ]
  }
 ],
 "metadata": {
  "kernelspec": {
   "display_name": "torch_arm64",
   "language": "python",
   "name": "torch_arm64"
  },
  "language_info": {
   "codemirror_mode": {
    "name": "ipython",
    "version": 3
   },
   "file_extension": ".py",
   "mimetype": "text/x-python",
   "name": "python",
   "nbconvert_exporter": "python",
   "pygments_lexer": "ipython3",
   "version": "3.8.12"
  },
  "widgets": {
   "application/vnd.jupyter.widget-state+json": {
    "state": {},
    "version_major": 2,
    "version_minor": 0
   }
  }
 },
 "nbformat": 4,
 "nbformat_minor": 5
}
