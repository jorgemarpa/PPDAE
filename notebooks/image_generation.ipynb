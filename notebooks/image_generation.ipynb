{
 "cells": [
  {
   "cell_type": "code",
   "execution_count": 1,
   "metadata": {},
   "outputs": [],
   "source": [
    "import numpy as np\n",
    "import matplotlib.pyplot as plt\n",
    "import torch\n",
    "from astropy.io import fits\n",
    "from ipywidgets import interact"
   ]
  },
  {
   "cell_type": "code",
   "execution_count": 2,
   "metadata": {
    "scrolled": true
   },
   "outputs": [
    {
     "name": "stderr",
     "output_type": "stream",
     "text": [
      "/Users/zoietelkamp/opt/anaconda3/lib/python3.7/site-packages/sklearn/base.py:334: UserWarning: Trying to unpickle estimator DecisionTreeRegressor from version 0.23.2 when using version 0.23.1. This might lead to breaking code or invalid results. Use at your own risk.\n",
      "  UserWarning)\n",
      "/Users/zoietelkamp/opt/anaconda3/lib/python3.7/site-packages/sklearn/base.py:334: UserWarning: Trying to unpickle estimator RandomForestRegressor from version 0.23.2 when using version 0.23.1. This might lead to breaking code or invalid results. Use at your own risk.\n",
      "  UserWarning)\n"
     ]
    }
   ],
   "source": [
    "#Load in the best-performing models\n",
    "ae_model = torch.load(\"models/ae_20supi6u_CPU.h5\") \n",
    "RandomForestRegressor = torch.load(\"models/RFR_20supi6u.h5\") \n",
    "RandomForestClassifier = torch.load(\"models/RFC_allnewmodels.h5\")"
   ]
  },
  {
   "cell_type": "code",
   "execution_count": 3,
   "metadata": {},
   "outputs": [],
   "source": [
    "#Load in HST PSF\n",
    "hdul = fits.open(\"result00_psf.fits\")\n",
    "psf = hdul[0].data"
   ]
  },
  {
   "cell_type": "code",
   "execution_count": 4,
   "metadata": {},
   "outputs": [],
   "source": [
    "#Use a GPU if available and a CPU if not\n",
    "device = torch.device(\"cuda\" if torch.cuda.is_available() and gpu else \"cpu\") "
   ]
  },
  {
   "cell_type": "code",
   "execution_count": 5,
   "metadata": {},
   "outputs": [],
   "source": [
    "def gen_ML_img(log_mdust, log_Rc, f_exp, H0, log_Rin, sd_exp, log_sett, inc):\n",
    "    \"\"\" \n",
    "    Generate an image from a set of physical parameters, using machine learning\n",
    "    \n",
    "    Parameters\n",
    "    ----------\n",
    "    log_mdust: log of dust mass (Solar Masses)\n",
    "    log_Rc: log of critical radius (Au)\n",
    "    f_exp: flaring exponent\n",
    "    H0: scale height (Au)\n",
    "    log_Rin: log of inner radius (Au)\n",
    "    sd_exp: surface density exponent\n",
    "    log_sett: log of dust settling, i.e. alpha viscosity (Microns)\n",
    "    inc: inclination (Degrees)\n",
    "    \n",
    "    Returns\n",
    "    -------\n",
    "    image\n",
    "        generated image\n",
    "    \"\"\"\n",
    "    \n",
    "    #Predict whether or not the disk corresponding to the inputted\n",
    "    #parameters will be classified as edge-on\n",
    "    edge_on=RandomForestClassifier.predict([[log_mdust, log_Rc, f_exp, H0, log_Rin, \n",
    "                                             sd_exp, log_sett, inc]])\n",
    "    if edge_on==1:\n",
    "        \n",
    "        #Predict latent space parameters from physical parameters\n",
    "        z = np.array(RandomForestRegressor.predict([[log_mdust, log_Rc, f_exp, H0, \n",
    "                                                     log_Rin, sd_exp, log_sett, inc]]))\n",
    "        #Convert to float array, make it a pytorch array\n",
    "        z_torch = torch.from_numpy(z).float()\n",
    "        #Port the array to GPU if available\n",
    "        z_gpu = z_torch.to(device=device) \n",
    "        #Use the decoder of the autoencoder model to predict the image\n",
    "        #from the latent space vector\n",
    "        x = ae_model.decode(z_gpu) \n",
    "        #Port array to CPU if not already there\n",
    "        x = x.to(device='cpu')\n",
    "        x = x.detach().numpy() \n",
    "        #Reshape image\n",
    "        image = x[0,0,:,:]\n",
    "        \n",
    "    elif edge_on==0:\n",
    "        #Return the PSF if parameters correspond to a non-edge-on image\n",
    "        image = psf\n",
    "    \n",
    "    return image"
   ]
  },
  {
   "cell_type": "markdown",
   "metadata": {},
   "source": [
    "# Generate an image"
   ]
  },
  {
   "cell_type": "code",
   "execution_count": 8,
   "metadata": {},
   "outputs": [
    {
     "data": {
      "image/png": "[encoded data removed]",
      "text/plain": [
       "<Figure size 432x288 with 1 Axes>"
      ]
     },
     "metadata": {
      "needs_background": "light"
     },
     "output_type": "display_data"
    }
   ],
   "source": [
    "#set the physical parameter values\n",
    "dust_mass = 5.95e-04\n",
    "Rc = 264 \n",
    "flaring_exp = 1.219\n",
    "H0 = 12.\n",
    "Rin = 2.1 \n",
    "sd_exp = -1.38\n",
    "sett = 2e-3 \n",
    "inc = 90.0 \n",
    "\n",
    "#generate and plot the image\n",
    "img = gen_ML_img(np.log10(dust_mass), np.log10(Rc), flaring_exp, H0,\n",
    "                 np.log10(Rin), sd_exp, np.log10(sett), inc)\n",
    "\n",
    "plt.imshow(np.sqrt(img), origin='lower')\n",
    "plt.show()"
   ]
  },
  {
   "cell_type": "markdown",
   "metadata": {},
   "source": [
    "# Interactive Widget"
   ]
  },
  {
   "cell_type": "code",
   "execution_count": 6,
   "metadata": {},
   "outputs": [],
   "source": [
    "def plot_img_widget(log_mdust, log_Rc, f_exp, H0, log_Rin, sd_exp, log_sett, inc):\n",
    "    \n",
    "    \"\"\" \n",
    "    Generate and plot an image from a set of physical parameters\n",
    "    \"\"\"\n",
    "    img = gen_ML_img(log_mdust, log_Rc, f_exp, H0, \n",
    "                    log_Rin, sd_exp, log_sett, inc)\n",
    "\n",
    "    plt.imshow(np.sqrt(img), origin='lower')\n",
    "    plt.xticks([])\n",
    "    plt.yticks([])\n",
    "    plt.show()"
   ]
  },
  {
   "cell_type": "code",
   "execution_count": 7,
   "metadata": {},
   "outputs": [
    {
     "data": {
      "application/vnd.jupyter.widget-view+json": {
       "model_id": "9bf2eccaa8d0412da8a2891ce91a8cdf",
       "version_major": 2,
       "version_minor": 0
      },
      "text/plain": [
       "interactive(children=(FloatSlider(value=-4.872363747448347, description='log_mdust', max=-2.9208187539523753, …"
      ]
     },
     "metadata": {},
     "output_type": "display_data"
    }
   ],
   "source": [
    "#Define parameter limits and increment size and create widget\n",
    "ML_image = interact(plot_img_widget, log_mdust = (np.log10(1.5e-07), np.log10(0.0012)), \n",
    "                    log_Rc=(1,2.477,0.1), f_exp=(1,1.3,0.01), H0=(5,25,1), log_Rin=(-1,1,0.1),\n",
    "                    sd_exp=(-1.5,0,0.1), log_sett=(np.log10(3e-6),np.log10(3e-3)), \n",
    "                    inc = (45,90,1))"
   ]
  },
  {
   "cell_type": "code",
   "execution_count": null,
   "metadata": {},
   "outputs": [],
   "source": []
  }
 ],
 "metadata": {
  "kernelspec": {
   "display_name": "Python 3",
   "language": "python",
   "name": "python3"
  },
  "language_info": {
   "codemirror_mode": {
    "name": "ipython",
    "version": 3
   },
   "file_extension": ".py",
   "mimetype": "text/x-python",
   "name": "python",
   "nbconvert_exporter": "python",
   "pygments_lexer": "ipython3",
   "version": "3.7.4"
  }
 },
 "nbformat": 4,
 "nbformat_minor": 2
}
